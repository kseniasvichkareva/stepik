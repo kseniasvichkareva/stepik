{
  "nbformat": 4,
  "nbformat_minor": 0,
  "metadata": {
    "colab": {
      "provenance": [],
      "authorship_tag": "ABX9TyPmVCjr9jMohjZhE76uoq+z",
      "include_colab_link": true
    },
    "kernelspec": {
      "name": "python3",
      "display_name": "Python 3"
    },
    "language_info": {
      "name": "python"
    }
  },
  "cells": [
    {
      "cell_type": "markdown",
      "metadata": {
        "id": "view-in-github",
        "colab_type": "text"
      },
      "source": [
        "<a href=\"https://colab.research.google.com/github/kseniasvichkareva/stepik/blob/main/stepik_begginer_9.ipynb\" target=\"_parent\"><img src=\"https://colab.research.google.com/assets/colab-badge.svg\" alt=\"Open In Colab\"/></a>"
      ]
    },
    {
      "cell_type": "code",
      "execution_count": 1,
      "metadata": {
        "colab": {
          "base_uri": "https://localhost:8080/"
        },
        "id": "KJNUL0YZ5F5V",
        "outputId": "62541f44-9909-4b6b-cb0d-d35f4bac67a2"
      },
      "outputs": [
        {
          "output_type": "stream",
          "name": "stdout",
          "text": [
            "3\n",
            "2\n",
            "5\n",
            "1\n",
            "6\n",
            "1.5\n",
            "1\n",
            "1\n",
            "245.0979396078229\n"
          ]
        }
      ],
      "source": [
        "a = int(input())\n",
        "b = int(input())\n",
        "print(a + b)\n",
        "print(a - b)\n",
        "print(a * b)\n",
        "print(a / b)\n",
        "print(a // b)\n",
        "print(a % b)\n",
        "print((a**10 + b**10)**(1/2))"
      ]
    },
    {
      "cell_type": "code",
      "source": [
        "#m = float(input())\n",
        "#r = float(input())\n",
        "m = 25\n",
        "r = 1\n",
        "imt = m / (r**2)\n",
        "if 18.5 <= imt <= 25 :\n",
        "    print ('Оптимальная масса')\n",
        "else :\n",
        "    if imt < 18.5 :\n",
        "         print ('Недостаточная масса')\n",
        "    else :\n",
        "        print ('Избыточная масса')\n"
      ],
      "metadata": {
        "colab": {
          "base_uri": "https://localhost:8080/"
        },
        "id": "RlSotYX_5YS1",
        "outputId": "3556c172-e5e5-4fd7-9a5c-152bf46a991a"
      },
      "execution_count": 2,
      "outputs": [
        {
          "output_type": "stream",
          "name": "stdout",
          "text": [
            "Оптимальная масса\n"
          ]
        }
      ]
    },
    {
      "cell_type": "code",
      "source": [
        "#s = input()\n",
        "s = 'Тимур - лучший математик на свете!!'\n",
        "n = len(s)*60\n",
        "a = n//100\n",
        "b = n%100\n",
        "print(a, 'р.', b, 'коп.')"
      ],
      "metadata": {
        "colab": {
          "base_uri": "https://localhost:8080/"
        },
        "id": "eL3Mhk9V6wE9",
        "outputId": "e8c7714c-519e-486b-abb4-c956f23002f7"
      },
      "execution_count": 3,
      "outputs": [
        {
          "output_type": "stream",
          "name": "stdout",
          "text": [
            "21 р. 0 коп.\n"
          ]
        }
      ]
    },
    {
      "cell_type": "code",
      "source": [
        "n = 2514\n",
        "counter = 0\n",
        "while n != 0:\n",
        "    last_digit = n % 10\n",
        "    counter += last_digit\n",
        "    n = n // 10\n",
        "print(counter)"
      ],
      "metadata": {
        "colab": {
          "base_uri": "https://localhost:8080/"
        },
        "id": "7NYOtQJb6wPl",
        "outputId": "e49a3a8d-bcc8-4cc8-8c5d-970000f0333a"
      },
      "execution_count": 4,
      "outputs": [
        {
          "output_type": "stream",
          "name": "stdout",
          "text": [
            "12\n"
          ]
        }
      ]
    },
    {
      "cell_type": "code",
      "source": [
        "n = 128\n",
        "b = \"\"\n",
        "while n != 0 :\n",
        "    b = str(n % 2) + b\n",
        "    n //= 2\n",
        "b"
      ],
      "metadata": {
        "colab": {
          "base_uri": "https://localhost:8080/",
          "height": 35
        },
        "id": "Klh9MSww66UV",
        "outputId": "2a3af990-af3f-4965-feea-1b49889f1855"
      },
      "execution_count": 5,
      "outputs": [
        {
          "output_type": "execute_result",
          "data": {
            "text/plain": [
              "'10000000'"
            ],
            "application/vnd.google.colaboratory.intrinsic+json": {
              "type": "string"
            }
          },
          "metadata": {},
          "execution_count": 5
        }
      ]
    },
    {
      "cell_type": "code",
      "source": [
        "#s = input()\n",
        "s = 'Тимур    Руслан    Роман  stepik'\n",
        "counter = 1\n",
        "for i in range(len(s)):\n",
        "    if s[i] in ' ' and s[i+1] != ' ':\n",
        "        counter += 1\n",
        "print(counter)"
      ],
      "metadata": {
        "colab": {
          "base_uri": "https://localhost:8080/"
        },
        "id": "Us-63Npq66aS",
        "outputId": "9718cbdd-11ce-41fe-940f-75f9819c4fad"
      },
      "execution_count": 6,
      "outputs": [
        {
          "output_type": "stream",
          "name": "stdout",
          "text": [
            "4\n"
          ]
        }
      ]
    },
    {
      "cell_type": "code",
      "source": [],
      "metadata": {
        "id": "eVUp94z166ec"
      },
      "execution_count": null,
      "outputs": []
    }
  ]
}